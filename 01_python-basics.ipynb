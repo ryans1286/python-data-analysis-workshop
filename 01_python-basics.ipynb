{
 "cells": [
  {
   "cell_type": "markdown",
   "id": "2b83c0c2",
   "metadata": {},
   "source": [
    "## Python Basics\n",
    "### This notebook contains information about the following:\n",
    " - Comments\n",
    " - Data types\n",
    " - Variables\n",
    " - The type() function and print() function\n",
    " - Arithmetic operations\n",
    " - Checking for equality"
   ]
  },
  {
   "cell_type": "code",
   "execution_count": null,
   "id": "f71616ed",
   "metadata": {},
   "outputs": [],
   "source": [
    "%pylab inline"
   ]
  },
  {
   "cell_type": "code",
   "execution_count": null,
   "id": "e4c51f8c",
   "metadata": {},
   "outputs": [],
   "source": [
    "\"\"\"\n",
    "It is always a good idea to add comments to your code.\n",
    "Comments help other users (and you!) remember what the code is supposed to do.\n",
    "\n",
    "Comments can be added to code in two ways:\n",
    "\"\"\"\n",
    "\n",
    "\"\"\"Anything written between 3 sets of quotation marks is a comment.\"\"\"\n",
    "\n",
    "#Anything written after a pound (#) sign is a comment\n",
    "\n",
    "\n",
    "#Both methods are acceptable.\n",
    "\n",
    "#I tend to use the pound sign for short comments.\n",
    "\n",
    "\"\"\"I typically use three sets of quotation marks for longer comments.\"\"\""
   ]
  },
  {
   "cell_type": "markdown",
   "id": "7e1b0fc1",
   "metadata": {},
   "source": [
    "### All programming languages classify data by type. We will learn about five commonly used data types today: strings, integers, floats, lists, and arrays.\n",
    "\n",
    "#### Booleans- True or False (bool)\n",
    "#### Strings- a series of characters (numbers or letters) written inside a single set of quotation marks. E.g, \"Nepal\" (type = str)\n",
    "#### Integers- whole numbers. E.g., 2, 46, 190238 (type = int)\n",
    "#### Float- decimal numbers. E.g., 0.5, 1.91, 3.14159 (type = float)\n",
    "#### Lists- a series of strings, integers, floats, variables, lists, or arrays written between brackets and separated by a comma. [1, \"a\", 2.5] (lst)\n",
    "#### Arrays- these are similar to lists, but typically only used for numbers. We'll learn more about them later on. \n",
    "\n",
    "#### Python has a built in function \"type()\" that will tell you the type of data you are working with."
   ]
  },
  {
   "cell_type": "code",
   "execution_count": null,
   "id": "0f9564e7",
   "metadata": {},
   "outputs": [],
   "source": [
    "#We will begin using the function type() to check the data type for each of the following examples:\n",
    "\n",
    "type(\"This is a string.\")"
   ]
  },
  {
   "cell_type": "code",
   "execution_count": null,
   "id": "ea0e1ac9",
   "metadata": {},
   "outputs": [],
   "source": [
    "type(4) #This is an integer"
   ]
  },
  {
   "cell_type": "code",
   "execution_count": null,
   "id": "fd4c979d",
   "metadata": {},
   "outputs": [],
   "source": [
    "type(3.14159) #This is a float"
   ]
  },
  {
   "cell_type": "code",
   "execution_count": null,
   "id": "26c82f8f",
   "metadata": {},
   "outputs": [],
   "source": [
    "type([1, \"b\", 3.5, \"dogs\", \"cats\", 0.9]) #This is a list"
   ]
  },
  {
   "cell_type": "code",
   "execution_count": null,
   "id": "48f0bce3",
   "metadata": {},
   "outputs": [],
   "source": [
    "type(True)"
   ]
  },
  {
   "cell_type": "code",
   "execution_count": null,
   "id": "fb846b89",
   "metadata": {},
   "outputs": [],
   "source": [
    "type(False)"
   ]
  },
  {
   "cell_type": "markdown",
   "id": "c2b3f2c1",
   "metadata": {},
   "source": [
    "### Most of the time, you will store data as a variable. In Python, variables can hold any type of data. You can give the variable any name you want. The only constraint is that the variable name must begin with a letter. To assign a value to the variable, we use a single equal sign (=). The following variable names are examples:\n",
    "\n",
    "x = 4\n",
    "\n",
    "y = \"cats\"\n",
    "\n",
    "ages = [22, 25, 23, 24, 22, 26]\n",
    "\n",
    "tempAvg = 14.5\n",
    "\n",
    "mean_discharge = 3300"
   ]
  },
  {
   "cell_type": "code",
   "execution_count": null,
   "id": "616c8807",
   "metadata": {},
   "outputs": [],
   "source": [
    "place = \"Kathmandu University\"\n",
    "year = 2023\n",
    "x = 2.5\n",
    "countries = ['Nepal', 'India', 'Pakistan', 'Bangladesh', 'China']"
   ]
  },
  {
   "cell_type": "code",
   "execution_count": null,
   "id": "e0fe2b7f",
   "metadata": {},
   "outputs": [],
   "source": [
    "#In the space below, use the Python function type() to show the type of each of the variables above.\n",
    "#We will need to use the print() function to show all of the variable types at the same time. \n",
    "\n",
    "#I've done the first one for you, and partially completed the second one:\n",
    "print(type(place))\n",
    "print(type())\n",
    "\n",
    "\n"
   ]
  },
  {
   "cell_type": "markdown",
   "id": "80e5c354",
   "metadata": {},
   "source": [
    "### The variable \"countries\" is a list. We can access specific values in the list using list notation."
   ]
  },
  {
   "cell_type": "code",
   "execution_count": null,
   "id": "4fe07d7c",
   "metadata": {},
   "outputs": [],
   "source": [
    "#Python begins counting at 0. To access the first value in the list, we type:\n",
    "countries[0]"
   ]
  },
  {
   "cell_type": "code",
   "execution_count": null,
   "id": "1e4bc72e",
   "metadata": {},
   "outputs": [],
   "source": [
    "#We can access any value in the list this way:\n",
    "print(countries[1])\n",
    "print(countries[3])\n",
    "print(countries[2])\n",
    "print(countries[-1])\n",
    "print(countries[-3])"
   ]
  },
  {
   "cell_type": "code",
   "execution_count": null,
   "id": "124462dc",
   "metadata": {},
   "outputs": [],
   "source": [
    "#We can also select multiple values at once, this is called a \"slice\"\n",
    "print(countries[:3])\n",
    "print(countries[1:4])\n",
    "print(countries[3:])"
   ]
  },
  {
   "cell_type": "markdown",
   "id": "a29dafb8",
   "metadata": {},
   "source": [
    "### Python makes completing arithmetic operations simple. Let's practice."
   ]
  },
  {
   "cell_type": "code",
   "execution_count": null,
   "id": "084a20be",
   "metadata": {},
   "outputs": [],
   "source": [
    "#I assigned values to the following variables. \n",
    "a = 3\n",
    "b = 4\n",
    "c = 5\n",
    "d = 9"
   ]
  },
  {
   "cell_type": "code",
   "execution_count": null,
   "id": "90063152",
   "metadata": {},
   "outputs": [],
   "source": [
    "#Now we can perform arithmetic on the variables\n",
    "print(a+b)\n",
    "print(c-a)"
   ]
  },
  {
   "cell_type": "code",
   "execution_count": null,
   "id": "69a6221f",
   "metadata": {},
   "outputs": [],
   "source": [
    "#If we want our print statement to look nice, we can add a string\n",
    "print(\"a + b =\", a+b)\n",
    "print(\"c - a =\", c-a)"
   ]
  },
  {
   "cell_type": "code",
   "execution_count": null,
   "id": "e828231d",
   "metadata": {},
   "outputs": [],
   "source": [
    "\"\"\"\n",
    "Use print statements when trying the following operations:\n",
    "\n",
    "a * b\n",
    "d / a\n",
    "c // b\n",
    "c // a\n",
    "d // b\n",
    "a**2\n",
    "a**a\n",
    "\"\"\"\n",
    "print(a*b)\n",
    "print(d/a)\n",
    "print()\n",
    "print()\n",
    "print()\n",
    "print()\n",
    "print()"
   ]
  },
  {
   "cell_type": "markdown",
   "id": "d3ad68e0",
   "metadata": {},
   "source": [
    "### Stop: What operations do the symbols +, -, *, /, //, and ** execute? What does the single (=) sign mean in Python?"
   ]
  },
  {
   "cell_type": "code",
   "execution_count": null,
   "id": "1e743bf0",
   "metadata": {},
   "outputs": [],
   "source": [
    "\"\"\"\n",
    "Use print statements when trying the following operations:\n",
    "\n",
    "a > b\n",
    "a < b\n",
    "3*a > d\n",
    "3*a >= d\n",
    "c != d\n",
    "\n",
    "a < b and d > a\n",
    "b > a or a > d\n",
    "\"\"\"\n",
    "\n"
   ]
  },
  {
   "cell_type": "markdown",
   "id": "b47ea014",
   "metadata": {},
   "source": [
    "### Stop: What operations do the symbols >, <, >=, <=, and != execute? What do the \"and\" and \"or\" operators do?"
   ]
  },
  {
   "cell_type": "code",
   "execution_count": null,
   "id": "2ee58f1c",
   "metadata": {},
   "outputs": [],
   "source": [
    "#Do you remember the Pythagorean theorem for right triangles? a^2 + b^2 = c^2\n",
    "#We can check to see if our variables describe a right triangle.\n",
    "\n",
    "print(\"a^2 + b^2 =\", a**2 + b**2)\n",
    "print(\"c^2 =\", c**2)"
   ]
  },
  {
   "cell_type": "code",
   "execution_count": null,
   "id": "37cbe180",
   "metadata": {},
   "outputs": [],
   "source": [
    "#We can use the double equal sign (==) to test if the outputs are the same\n",
    "\n",
    "a**2 + b**2 == c**2"
   ]
  },
  {
   "cell_type": "code",
   "execution_count": null,
   "id": "412eb634",
   "metadata": {},
   "outputs": [],
   "source": [
    "#What happens if we use the double equal sign on two values that are not the same?\n",
    "\n",
    "a == b"
   ]
  },
  {
   "cell_type": "code",
   "execution_count": null,
   "id": "b1bee70e",
   "metadata": {},
   "outputs": [],
   "source": [
    "q = 5\n",
    "r = 10\n",
    "s = 20"
   ]
  },
  {
   "cell_type": "code",
   "execution_count": null,
   "id": "b9ad59fe",
   "metadata": {},
   "outputs": [],
   "source": [
    "#What happens when we use a single equal sign between two variables?\n",
    "\n",
    "q = r\n",
    "\n",
    "print(q) #What is the value of q? What is the value of r? Did something change from before?"
   ]
  },
  {
   "cell_type": "markdown",
   "id": "2dade50b",
   "metadata": {},
   "source": [
    "### Warning! You must always be careful to avoid changing the value of a variable by mistake! "
   ]
  },
  {
   "cell_type": "code",
   "execution_count": null,
   "id": "d1ebe83c",
   "metadata": {},
   "outputs": [],
   "source": []
  }
 ],
 "metadata": {
  "kernelspec": {
   "display_name": "Python 3 (ipykernel)",
   "language": "python",
   "name": "python3"
  },
  "language_info": {
   "codemirror_mode": {
    "name": "ipython",
    "version": 3
   },
   "file_extension": ".py",
   "mimetype": "text/x-python",
   "name": "python",
   "nbconvert_exporter": "python",
   "pygments_lexer": "ipython3",
   "version": "3.7.1"
  }
 },
 "nbformat": 4,
 "nbformat_minor": 5
}
