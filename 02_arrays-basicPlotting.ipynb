{
 "cells": [
  {
   "cell_type": "code",
   "execution_count": 1,
   "id": "63b7e376",
   "metadata": {},
   "outputs": [
    {
     "name": "stdout",
     "output_type": "stream",
     "text": [
      "Populating the interactive namespace from numpy and matplotlib\n"
     ]
    }
   ],
   "source": [
    "%pylab inline"
   ]
  },
  {
   "cell_type": "markdown",
   "id": "d9333f89",
   "metadata": {},
   "source": [
    "#### The line of code above \"%pylab inline\" automatically imports a bunch of functions that are useful for scientists and engineers. Without it, we would need to import specific libraries of fuctions. \n",
    "\n",
    "#### Most of the functions we will use come from the following libraries: numpy, matplotlib, scipy, and pandas. Some of these we will need to import specifically. "
   ]
  },
  {
   "cell_type": "markdown",
   "id": "94bf1b96",
   "metadata": {},
   "source": [
    "## Arrays and Basic Plotting\n",
    "### This notebook contains information on the following topics:\n",
    " - Numpy Arrays\n",
    " - Basic plotting with Pyplot\n",
    " - Histograms\n",
    " - Random values"
   ]
  },
  {
   "cell_type": "markdown",
   "id": "584acc97",
   "metadata": {},
   "source": [
    "### Arrays"
   ]
  },
  {
   "cell_type": "code",
   "execution_count": null,
   "id": "f3317771",
   "metadata": {},
   "outputs": [],
   "source": [
    "#Arrays are an efficient way to store numerical data\n",
    "#Arrays are similar to lists, but designed specifically for completing mathematical operations quickly\n",
    "\n",
    "#We create an array by using the numpy array() function:\n",
    "\n",
    "array([1, 3, 4, 5, 8, 10, 22])"
   ]
  },
  {
   "cell_type": "code",
   "execution_count": null,
   "id": "fb8e6974",
   "metadata": {},
   "outputs": [],
   "source": [
    "#We can automatically generate an array of a certain length using the following expressions:\n",
    "\n",
    "print(zeros(10)) #an array with 10 values, all 0's\n",
    "print(ones(10)) #an array with 10 values, all 1's\n",
    "\n",
    "print(arange(0, 10, 1)) #an array with 10 values, increasing by 1, from 0 to 9\n",
    "\n",
    "print(linspace(0, 2, 11)) #an array with 11 values evenly spaced from 0 to 2"
   ]
  },
  {
   "cell_type": "code",
   "execution_count": null,
   "id": "dfdbbf8f",
   "metadata": {},
   "outputs": [],
   "source": [
    "#It is possible to do mathematical operations on arrays:\n",
    "\n",
    "x = arange(0, 10, 1)\n",
    "\n",
    "print(\"x =\", x)\n",
    "print(\"2*x =\", 2*x)\n",
    "print(\"3*x =\", 3*x)\n",
    "print(\"x^2 =\", x**2)"
   ]
  },
  {
   "cell_type": "code",
   "execution_count": null,
   "id": "64758cc5",
   "metadata": {},
   "outputs": [],
   "source": [
    "#If two arrays have the same shape, we can add, subtract, multiply, and divide them. \n",
    "\n",
    "#Let's first create two arrays and check their shapes\n",
    "\n",
    "a = arange(0, 50, 5)\n",
    "b = arange(0, 100, 10)\n",
    "\n",
    "print(\"the shape of a is\", shape(a))\n",
    "print(\"the shape of b is\", shape(b))"
   ]
  },
  {
   "cell_type": "code",
   "execution_count": null,
   "id": "94ca1da3",
   "metadata": {},
   "outputs": [],
   "source": [
    "#Both a and b have the same shape, so we can do arithmetic on them\n",
    "\n",
    "print(\"a + b =\", a + b)\n",
    "print(\"b - a =\", b - a)\n",
    "print(\"a * b =\", a*b)\n",
    "print(\"b / a =\", b/a)"
   ]
  },
  {
   "cell_type": "markdown",
   "id": "39075bff",
   "metadata": {},
   "source": [
    "#### Oh no, a warning! Python gave us a warning because one of our operations divided by zero. Which one was it? "
   ]
  },
  {
   "cell_type": "code",
   "execution_count": null,
   "id": "7548829e",
   "metadata": {},
   "outputs": [],
   "source": [
    "#What happens when we try to add two arrays that are not the same shape?\n",
    "\n",
    "c = ones(10)\n",
    "d = linspace(0, 10, 5)\n",
    "\n",
    "c + d"
   ]
  },
  {
   "cell_type": "markdown",
   "id": "232988e7",
   "metadata": {},
   "source": [
    "#### We got an error! Python stopped running the program when it discovered the arrays are not the same shape. The error message is descriptive of the problem. In this case, it tells us that the arrays don't have the same shape. Don't let error messages upset you, they are a normal part of coding. Try changing the code to fix the error. "
   ]
  },
  {
   "cell_type": "markdown",
   "id": "dbe13457",
   "metadata": {},
   "source": [
    "### Basic Plotting"
   ]
  },
  {
   "cell_type": "markdown",
   "id": "8d045fe8",
   "metadata": {},
   "source": [
    "#### Python's advanced plotting capabilities are one of the strongest reasons you should learn Python, even if you are not interested in coding. Most of the plots you see in published scientific articles are created in Python (or Matlab). The good news is that it's relatively easy to learn the basics of plotting in Python. Once you become comfortable with the basic ideas, you can start making beautiful plots!"
   ]
  },
  {
   "cell_type": "code",
   "execution_count": null,
   "id": "f029ae0d",
   "metadata": {},
   "outputs": [],
   "source": [
    "#Let's start with a simple function, the equation for a line:\n",
    "# y = mx + b\n",
    "# 'm' is the slope of the line\n",
    "# 'b' is the y-intercept\n",
    "\n",
    "#The first thing we must do when plotting a function is define the range of x-values that we want to plot\n",
    "\n",
    "x = linspace(-5, 5, 10) #Creates 10 equally spaced values betweeen -5 and 5\n",
    "m = 2\n",
    "b = 1\n",
    "\n",
    "plot(x, m*x + b)\n",
    "show()"
   ]
  },
  {
   "cell_type": "code",
   "execution_count": null,
   "id": "ccba7b4d",
   "metadata": {},
   "outputs": [],
   "source": [
    "#We can plot multiple functions on the same figure\n",
    "\n",
    "x = linspace(-5, 5, 10) #Creates 10 equally spaced values betweeen -5 and 5\n",
    "m1 = 2\n",
    "b1 = 1\n",
    "\n",
    "m2 = -4\n",
    "b2 = 1\n",
    "\n",
    "m3 = 0\n",
    "b3 = 5\n",
    "\n",
    "plot(x, m1*x + b1)\n",
    "plot(x, m2*x + b2)\n",
    "plot(x, m3*x + b3)\n",
    "show()"
   ]
  },
  {
   "cell_type": "code",
   "execution_count": null,
   "id": "1a0f1862",
   "metadata": {},
   "outputs": [],
   "source": [
    "#All plots need to have the axes labeled\n",
    "\n",
    "x = linspace(-5, 5, 10) #Creates 10 equally spaced values betweeen -5 and 5\n",
    "m1 = 2\n",
    "b1 = 1\n",
    "\n",
    "m2 = -4\n",
    "b2 = 1\n",
    "\n",
    "m3 = 0\n",
    "b3 = 5\n",
    "\n",
    "plot(x, m1*x + b1, label = 'Line 1')\n",
    "plot(x, m2*x + b2, label = 'Line 2')\n",
    "plot(x, m3*x + b3, label = 'Line 3')\n",
    "\n",
    "xlabel('x-axis', fontsize = 12)\n",
    "ylabel('y-axis', fontsize = 12)\n",
    "\n",
    "#title('My first Python plot')\n",
    "#legend()\n",
    "\n",
    "show()"
   ]
  },
  {
   "cell_type": "markdown",
   "id": "c4fdb958",
   "metadata": {},
   "source": [
    "#### The Python library \"Numpy\" has a bunch of built-in mathematical functions that make life easy. When we use %pylab inline (see the very first cell at the top of this notebook), we have access to Numpy functions. The link below takes to to the Numpy documentation, where you can see all the math functions that are availble. \n",
    "\n",
    "https://numpy.org/doc/stable/reference/routines.math.html"
   ]
  },
  {
   "cell_type": "code",
   "execution_count": null,
   "id": "f0d5cb07",
   "metadata": {},
   "outputs": [],
   "source": [
    "#Let's plot some trigonometric functions\n",
    "\n",
    "t = np.linspace(0, 4*pi, 10)\n",
    "\n",
    "plot(t, sin(t))\n",
    "\n",
    "#Does this look right? What can we do to fix it?\n",
    "#Try plotting the cosine\n",
    "#Add labels to the axes and a legend\n",
    "#Can you change the colors of the lines? \n",
    "\n",
    "\n",
    "show()"
   ]
  },
  {
   "cell_type": "markdown",
   "id": "c500f43f",
   "metadata": {},
   "source": [
    "### Plotting Data that isn't a function"
   ]
  },
  {
   "cell_type": "markdown",
   "id": "595c4e58",
   "metadata": {},
   "source": [
    "#### Much of the time, you will need to plot data that you collected in the field, not mathematical functions. Python makes this easy."
   ]
  },
  {
   "cell_type": "code",
   "execution_count": null,
   "id": "ffd7f1cc",
   "metadata": {},
   "outputs": [],
   "source": [
    "#If we have two arrays that are the same shape, we can plot them \n",
    "# ***If the arrays are not the same shape, you will get an error!***\n",
    "\n",
    "x_values = np.arange(0, 20, 1) #creates an array from 0 to 19, counting by 1\n",
    "y_values = random.randint(0, 10, 20) #creates an array filled with random values between 0 and 9\n",
    "\n",
    "plot(x_values, y_values)"
   ]
  },
  {
   "cell_type": "markdown",
   "id": "c238eb76",
   "metadata": {},
   "source": [
    "### Saving Plots"
   ]
  },
  {
   "cell_type": "code",
   "execution_count": null,
   "id": "578138cf",
   "metadata": {},
   "outputs": [],
   "source": [
    "x = linspace(0, 2*pi)\n",
    "\n",
    "plot(x, sin(x))\n",
    "xlabel('radians')\n",
    "ylabel('Position (x)')\n",
    "#savefig('my-first-figure.png', dpi = 200)\n",
    "show()"
   ]
  },
  {
   "cell_type": "markdown",
   "id": "c13e71ff",
   "metadata": {},
   "source": [
    "## Random Arrays and Histograms"
   ]
  },
  {
   "cell_type": "code",
   "execution_count": 4,
   "id": "d9046a65",
   "metadata": {},
   "outputs": [],
   "source": [
    "#Sometimes we need to select random values\n",
    "#The function random.random() selects values between 0 and 1 from a Uniform Distribution\n",
    "random_uniform = random.random(1000)"
   ]
  },
  {
   "cell_type": "code",
   "execution_count": 5,
   "id": "7b8fc4df",
   "metadata": {},
   "outputs": [
    {
     "data": {
      "text/plain": [
       "(array([105., 102.,  91., 114., 101.,  86., 106.,  90., 100., 105.]),\n",
       " array([3.75579805e-04, 1.00300288e-01, 2.00224996e-01, 3.00149704e-01,\n",
       "        4.00074412e-01, 4.99999120e-01, 5.99923827e-01, 6.99848535e-01,\n",
       "        7.99773243e-01, 8.99697951e-01, 9.99622659e-01]),\n",
       " <BarContainer object of 10 artists>)"
      ]
     },
     "execution_count": 5,
     "metadata": {},
     "output_type": "execute_result"
    },
    {
     "data": {
      "image/png": "[encoded data removed]",
      "text/plain": [
       "<Figure size 640x480 with 1 Axes>"
      ]
     },
     "metadata": {},
     "output_type": "display_data"
    }
   ],
   "source": [
    "hist(random_uniform)"
   ]
  },
  {
   "cell_type": "code",
   "execution_count": 6,
   "id": "92e69dc5",
   "metadata": {},
   "outputs": [
    {
     "data": {
      "text/plain": [
       "array([3, 2, 1, 6, 4, 5, 2, 3, 3, 5])"
      ]
     },
     "execution_count": 6,
     "metadata": {},
     "output_type": "execute_result"
    }
   ],
   "source": [
    "#We may only want integers, in that case we use random.randint()\n",
    "random_integers = random.randint(1, 7, 10)\n",
    "#This simple routine simulates rolling a dice\n",
    "\n",
    "random_integers"
   ]
  },
  {
   "cell_type": "code",
   "execution_count": 9,
   "id": "eea5f3e0",
   "metadata": {},
   "outputs": [
    {
     "name": "stdout",
     "output_type": "stream",
     "text": [
      "These are the possible sums:  [ 2  3  4  5  6  7  8  9 10 11 12]\n"
     ]
    },
    {
     "data": {
      "image/png": "[encoded data removed]",
      "text/plain": [
       "<Figure size 640x480 with 1 Axes>"
      ]
     },
     "metadata": {},
     "output_type": "display_data"
    }
   ],
   "source": [
    "#What if we wanted to know the average sum of two dice? \n",
    "\n",
    "die1 = random.randint(1, 7, 1000)\n",
    "die2 = random.randint(1, 7, 1000)\n",
    "die3 = random.randint(1, 7, 1000)\n",
    "\n",
    "sum_3_dice = die1 + die2 + die3\n",
    "print(\"These are the possible sums: \", unique(sum_2_dice))\n",
    "\n",
    "hist(sum_3_dice, bins = 20) # Why did I set the number of bins to 11?\n",
    "show()\n",
    "#This creates a normal distribution! "
   ]
  },
  {
   "cell_type": "markdown",
   "id": "9c58a1d3",
   "metadata": {},
   "source": [
    "### Can you change the code above so that it calculates the sum of 3 dice (each with six sides numbered 1-6)? Plot a histogram of the possible sums. What if the dice had 12 sides? 20 sides? Play around with it! "
   ]
  },
  {
   "cell_type": "code",
   "execution_count": null,
   "id": "3c82ec55",
   "metadata": {},
   "outputs": [],
   "source": [
    "#What if we want to select values at random from a normal distribution?\n",
    "\n",
    "random_normal = random.normal(loc = 0, scale = 2., size = 10000)\n",
    "\n",
    "hist(random_normal, bins = 20)\n",
    "show()\n",
    "\n",
    "#What does the keyword \"loc\" represent? Try changing loc.\n",
    "#What does the keyword \"scale\" represent? Try changin scale. \n",
    "#What does the keyword \"size\" represent? Try increasing the size."
   ]
  },
  {
   "cell_type": "code",
   "execution_count": null,
   "id": "214f64aa",
   "metadata": {},
   "outputs": [],
   "source": []
  }
 ],
 "metadata": {
  "kernelspec": {
   "display_name": "Python 3 (ipykernel)",
   "language": "python",
   "name": "python3"
  },
  "language_info": {
   "codemirror_mode": {
    "name": "ipython",
    "version": 3
   },
   "file_extension": ".py",
   "mimetype": "text/x-python",
   "name": "python",
   "nbconvert_exporter": "python",
   "pygments_lexer": "ipython3",
   "version": "3.7.1"
  }
 },
 "nbformat": 4,
 "nbformat_minor": 5
}
