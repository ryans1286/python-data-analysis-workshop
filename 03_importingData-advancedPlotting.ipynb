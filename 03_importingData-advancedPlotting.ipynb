{
 "cells": [
  {
   "cell_type": "code",
   "execution_count": null,
   "id": "e8c41f03",
   "metadata": {},
   "outputs": [],
   "source": [
    "%pylab inline"
   ]
  },
  {
   "cell_type": "markdown",
   "id": "a7c84884",
   "metadata": {},
   "source": [
    "### Importing Data"
   ]
  },
  {
   "cell_type": "markdown",
   "id": "27065712",
   "metadata": {},
   "source": [
    "#### There are many ways you can import data into Python. I'm going to show you what I think is the easiest and most powerful way. This method works with Excel spreadsheets, CSV files, TXT files, and just about any other format you might have. "
   ]
  },
  {
   "cell_type": "markdown",
   "id": "ec3c6ea9",
   "metadata": {},
   "source": [
    "#### We will need to import the Pandas library of functions."
   ]
  },
  {
   "cell_type": "code",
   "execution_count": null,
   "id": "261799fe",
   "metadata": {},
   "outputs": [],
   "source": [
    "#This line loads Pandas into the notebook\n",
    "#We will need to tell Python to use Pandas when we need its functions\n",
    "#Typing the entire word pandas every time will be tedious, so I renamed the library pd\n",
    "\n",
    "import pandas as pd"
   ]
  },
  {
   "cell_type": "markdown",
   "id": "a87723a6",
   "metadata": {},
   "source": [
    "#### Pandas creates data structures called data frames. These are functionally similar to a Python dictionaries. For our purposes, they are similar to an Excel spreadsheet, except we can do away with the tedious user interface that goes along with using Excel."
   ]
  },
  {
   "cell_type": "markdown",
   "id": "f348ca3c",
   "metadata": {},
   "source": [
    "### Exercise 1: Importing Data from an Excel Spreadsheet"
   ]
  },
  {
   "cell_type": "code",
   "execution_count": null,
   "id": "5e2a9471",
   "metadata": {},
   "outputs": [],
   "source": [
    "data = pd.read_excel('precip-temp.xls')"
   ]
  },
  {
   "cell_type": "code",
   "execution_count": null,
   "id": "ffae90c1",
   "metadata": {},
   "outputs": [],
   "source": [
    "#We can take a look at the spreadsheet by typing the name of the variable where we defined the dataframe\n",
    "data"
   ]
  },
  {
   "cell_type": "code",
   "execution_count": null,
   "id": "714d62cb",
   "metadata": {},
   "outputs": [],
   "source": [
    "#We can easily get the names of all the columns as a list\n",
    "data.columns"
   ]
  },
  {
   "cell_type": "code",
   "execution_count": null,
   "id": "6f4bc380",
   "metadata": {},
   "outputs": [],
   "source": [
    "#One problem with Excel files is that the columns often contain differen types of data.\n",
    "#This is a very common problem!!! You need to check for this!!!\n",
    "\n",
    "data.dtypes"
   ]
  },
  {
   "cell_type": "code",
   "execution_count": null,
   "id": "db07a8d7",
   "metadata": {},
   "outputs": [],
   "source": [
    "#We can fix all of these one by one:\n",
    "\n",
    "data['Date'] = pd.to_datetime(data['Date'], errors = 'coerce') #Convert the dates to \"datetime\" objects\n",
    "data['prec1001'] = pd.to_numeric(data['prec1001'], errors = 'coerce') #Convert the precipitation data to a numeric data type\n",
    "data['prec1004'] = pd.to_numeric(data['prec1004'], errors = 'coerce') #The errors='coerce' keyword makes non-numeric data a NaN type\n",
    "data['TmaxTemp1001'] = pd.to_numeric(data['TmaxTemp1001'], errors = 'coerce')\n",
    "data['TminTemp1001'] = pd.to_numeric(data['TminTemp1001'], errors = 'coerce')\n",
    "data['TmaxTemp1004'] = pd.to_numeric(data['TmaxTemp1004'], errors = 'coerce')\n",
    "data['TminTemp1004'] = pd.to_numeric(data['TminTemp1004'], errors = 'coerce')\n",
    "\n",
    "data.dtypes"
   ]
  },
  {
   "cell_type": "code",
   "execution_count": null,
   "id": "18c83b90",
   "metadata": {},
   "outputs": [],
   "source": [
    "#This method accomplishes the same thing\n",
    "#It is far superior, but not as straightforward to apply\n",
    "\n",
    "data = pd.read_excel('precip-temp.xls', index_col = 0) #Set the \"Date\" column as the index when you import\n",
    "data = data.apply(pd.to_numeric, errors = 'coerce') #Fix the data types for all the columns"
   ]
  },
  {
   "cell_type": "code",
   "execution_count": null,
   "id": "3391fb97",
   "metadata": {},
   "outputs": [],
   "source": [
    "#We've done all this work, so now is a good time to save a new copy of the spreadsheet so we don't\n",
    "#need to do this again\n",
    "\n",
    "data.to_excel('precip-temp-fixed.xlsx')"
   ]
  },
  {
   "cell_type": "code",
   "execution_count": null,
   "id": "a306c9ea",
   "metadata": {},
   "outputs": [],
   "source": [
    "data = pd.read_excel('precip-temp-fixed.xlsx', index_col = 0)\n",
    "data"
   ]
  },
  {
   "cell_type": "markdown",
   "id": "7e0ef2ef",
   "metadata": {},
   "source": [
    "#### Now that our data is properly formatted, we can take full advantage of the built-in functions that come with Pandas"
   ]
  },
  {
   "cell_type": "markdown",
   "id": "725e05ab",
   "metadata": {},
   "source": [
    "## Plotting Timeseries data"
   ]
  },
  {
   "cell_type": "code",
   "execution_count": null,
   "id": "408e4775",
   "metadata": {},
   "outputs": [],
   "source": [
    "#For example, we can quickly make a plot of all the data in our data frame\n",
    "#This plot doesn't look very good, but we quickly plotted 7 years of data with a single line of code\n",
    "ax1 = data.plot(y = ['TmaxTemp1001'])\n",
    "ax2 = twinx()\n",
    "data.plot(y = ['prec1001'], ax = ax1)"
   ]
  },
  {
   "cell_type": "code",
   "execution_count": null,
   "id": "eeafb369",
   "metadata": {},
   "outputs": [],
   "source": [
    "rc('font', size=10)            # Set the font size for the plot\n",
    "ax1 = data.plot(y = ['TmaxTemp1001', 'prec1001'], secondary_y=['TmaxTemp1001']) # Save the primary (left) y axis in ax1\n",
    "# Set the y label on the primary (left) y axis\n",
    "ax1.set_ylabel('Precipitation')\n",
    "ylabel('Temperature') # Label the secondary y axis\n",
    "#It's a bit tricky to control legend location in this type of plot, but this is one way\n",
    "#Try uncommenting the code to see what happens\n",
    "#leg = ax1.get_legend()\n",
    "#leg._loc = leg.codes['upper right']"
   ]
  },
  {
   "cell_type": "code",
   "execution_count": null,
   "id": "c5d44c23",
   "metadata": {},
   "outputs": [],
   "source": [
    "#Perhaps we're interested in precipitation, we can plot it for each day\n",
    "data['prec1001'].plot()\n",
    "ylabel('Precipitation (mm)')"
   ]
  },
  {
   "cell_type": "code",
   "execution_count": null,
   "id": "95724b43",
   "metadata": {},
   "outputs": [],
   "source": [
    "#For these data, it makes more sense to look at the statistics for certain periods of time. \n",
    "#We need to examine a slice of the data. Let's look at data for the months of June-July 2008\n",
    "\n",
    "jj2008_data = data['2008-06-01':'2008-07-31'].copy() #make a new data frame with the data we're interested in\n",
    "\n",
    "jj2008_data['prec1001'].plot()\n",
    "ylabel(\"Precipitation (mm)\")"
   ]
  },
  {
   "cell_type": "code",
   "execution_count": null,
   "id": "53641396",
   "metadata": {},
   "outputs": [],
   "source": [
    "#I could also plot the precipitation at both Site 1001 and Site 1004 on the same axes\n",
    "\n",
    "jj2008_data.plot(y = ['prec1001', 'prec1004'])\n",
    "ylabel('Precipitation (mm)')"
   ]
  },
  {
   "cell_type": "code",
   "execution_count": null,
   "id": "d8f60af9",
   "metadata": {},
   "outputs": [],
   "source": [
    "data.plot(y = ['TmaxTemp1001', 'TmaxTemp1004'])"
   ]
  },
  {
   "cell_type": "markdown",
   "id": "42d3bc40",
   "metadata": {},
   "source": [
    "## Quick Descriptive Statistics"
   ]
  },
  {
   "cell_type": "code",
   "execution_count": null,
   "id": "038546bf",
   "metadata": {},
   "outputs": [],
   "source": [
    "#Quickly find the basic statistics for a column of data\n",
    "data['TmaxTemp1001'].describe()"
   ]
  },
  {
   "cell_type": "markdown",
   "id": "34d6505f",
   "metadata": {},
   "source": [
    "## Histograms"
   ]
  },
  {
   "cell_type": "code",
   "execution_count": null,
   "id": "d92f1ef4",
   "metadata": {},
   "outputs": [],
   "source": [
    "#Pandas makes it easy to create a histogram of your data\n",
    "#the histogram shows us the distribution of values \n",
    "data['TmaxTemp1001'].hist(bins = 30, density = True, grid = False)\n",
    "xlabel(\"Temperature ($^o$C)\")\n",
    "ylabel(\"Probability\")"
   ]
  },
  {
   "cell_type": "code",
   "execution_count": null,
   "id": "60b97d0c",
   "metadata": {},
   "outputs": [],
   "source": [
    "#Let's take a look at the histogram if we restrict our data to just the summer months, June-September 2007\n",
    "summer_data = data['2007-06-01':'2007-09-30'].copy()\n",
    "summer_data['TmaxTemp1001'].hist(bins = 20, density = False, grid = False)"
   ]
  },
  {
   "cell_type": "markdown",
   "id": "b2c88019",
   "metadata": {},
   "source": [
    "## Box and Whisker Plots"
   ]
  },
  {
   "cell_type": "code",
   "execution_count": null,
   "id": "aa1bacef",
   "metadata": {},
   "outputs": [],
   "source": [
    "#Perhaps we want to compare the rainfall recorded between the two sites: Site 1001 and Site 1004\n",
    "#This is a good opportunity to create a boxplot\n",
    "\n",
    "jj2008_data.boxplot(column = ['prec1001', 'prec1004'], grid = True)\n",
    "ylabel('Precipitation (mm)')"
   ]
  },
  {
   "cell_type": "markdown",
   "id": "e24ccd56",
   "metadata": {},
   "source": [
    "### Understanding Boxplots:\n",
    "\n",
    "#### Boxplots are a convenient way to display data that is normally distributed or nearly so. Temperature, rainfall, sizes of objects, etc. There are three important parts of the boxplot: the median, the Interquartile Range (IQR), the whiskers, and outliers. \n",
    "\n",
    "#### The median of the data is marked with a line within the box. In the plot above, the median is marked with a green line.\n",
    "\n",
    "#### The box represents the IQR and represents 50% of the measurements. For Site 1001, the Q1 boundary is at approximately 3 mm, and the Q3 boundary is at about 17 mm. This means that half of all rain events recorded during this time period were between ~3-17 mm. \n",
    "\n",
    "#### The whiskers go no further than 1.5*IQR and represent where nearly all of the measurements lie.\n",
    "\n",
    "#### Outliers are plotted as individual points outside of the whiskers. If present, these represent extreme values in our data. \n",
    "\n",
    "### Compare the boxplots for Site 1001 and Site 1004. What can we say about the differences in precipitation at these sites during June-July 2008? \n",
    "#### Think about the following:\n",
    "#### -What are the median values at each site?\n",
    "#### -Which site received the biggest rainfall event?\n",
    "#### -Which site do you think received more rain? "
   ]
  },
  {
   "cell_type": "markdown",
   "id": "52d3919a",
   "metadata": {},
   "source": [
    "## Cumulative Sums"
   ]
  },
  {
   "cell_type": "code",
   "execution_count": null,
   "id": "46638c0b",
   "metadata": {},
   "outputs": [],
   "source": [
    "jj2008_data['prec1001_cumsum'] = jj2008_data['prec1001'].cumsum()\n",
    "jj2008_data['prec1004_cumsum'] = jj2008_data['prec1004'].cumsum()\n",
    "jj2008_data.plot(y=['prec1001_cumsum','prec1004_cumsum'])\n",
    "ylabel(\"Precipitation (mm)\")"
   ]
  },
  {
   "cell_type": "code",
   "execution_count": null,
   "id": "a79669a6",
   "metadata": {},
   "outputs": [],
   "source": [
    "#Let's make a new column in the dataframe \"data\" that stores the mean temperature at\n",
    "#both sites (1001 and 1004)\n",
    "\n",
    "data['Tmean1001'] = (data['TmaxTemp1001'] + data['TminTemp1001'])/2\n",
    "data['Tmean1004'] = (data['TmaxTemp1004'] + data['TminTemp1004'])/2\n",
    "data"
   ]
  },
  {
   "cell_type": "code",
   "execution_count": null,
   "id": "915f1c8a",
   "metadata": {},
   "outputs": [],
   "source": [
    "data.plot(y = ['Tmean1001', 'Tmean1004'])\n",
    "ylabel('Temperature ($^o$C)')"
   ]
  },
  {
   "cell_type": "markdown",
   "id": "5fcc7dbc",
   "metadata": {},
   "source": [
    "## Rolling Means"
   ]
  },
  {
   "cell_type": "code",
   "execution_count": null,
   "id": "f0d87823",
   "metadata": {},
   "outputs": [],
   "source": [
    "data['TminRolling1001-7'] = data['TminTemp1001'].rolling(7).mean()\n",
    "data['TminRolling1001-14'] = data['TminTemp1001'].rolling(14).mean()\n",
    "data['TminRolling1001-28'] = data['TminTemp1001'].rolling(28).mean()\n",
    "data.plot(y = ['TminRolling1001-14','TminRolling1001-28'])"
   ]
  },
  {
   "cell_type": "markdown",
   "id": "7d45eebf",
   "metadata": {},
   "source": [
    "### Challenge: (1) Plot the maximum and minimum daily temperatures at Site 1001 for the entire year of 2013. (2) Plot the cumulative sum of precipitation at site 1001 for 2013 at Site 1001. (3) Create a boxplot comparing the maximum daily temperature at both Sites 1001 and 1004 during the month of August 2013. "
   ]
  },
  {
   "cell_type": "code",
   "execution_count": null,
   "id": "a832d41c",
   "metadata": {},
   "outputs": [],
   "source": [
    "\"\"\"\n",
    "Follow these steps:\n",
    "1. Create a new dataframe by slicing the rows that include 2013 from the original dataframe.\n",
    "2. Use Pandas to plot the maximum and minimum daily temperatures at Site 1001. Label the y-axis\n",
    "3. Create two new columns in your dataframe to calculate the cumulative sum of precipitation for both sites. \n",
    "4. Plot the cumulative sum of precipitation columns.\n",
    "5. Slice your dataframe so that in only includes the month of August. \n",
    "6. Create boxplots of maximum temperature at both sites. \n",
    "\n",
    "You can copy/paste code from above to make it easier. You will need to make changes to the code to\n",
    "complete the challenge. Don't be afraid to ask for help! \n",
    "\"\"\"\n",
    "\n",
    "#Step 1\n",
    "data2013 = data[\"2013-01-01\":\"2013-12-31\"]\n",
    "\n",
    "#Step 2\n",
    "data2013.plot(y = ['TmaxTemp1001', 'TminTemp1001'])\n",
    "ylabel('Temperature')\n",
    "show()\n",
    "\n",
    "#Step 3\n",
    "\n",
    "data2013['prec1001_cumsum'] = data2013['prec1001'].cumsum()\n",
    "data2013['prec1004_cumsum'] = data2013['prec1004'].cumsum()\n",
    "\n",
    "#Step 4\n",
    "data2013.plot(y = ['prec1001_cumsum', 'prec1004_cumsum'])\n",
    "ylabel('Precipitation (mm)')\n",
    "show()\n",
    "\n",
    "#Step 5\n",
    "aug_2013 = data2013['2013-08-01':'2013-08-31']\n",
    "\n",
    "#Step 6\n",
    "aug_2013.boxplot(column = ['TmaxTemp1001', 'TmaxTemp1004'])\n",
    "ylabel(\"Temperature\")\n",
    "show()\n"
   ]
  },
  {
   "cell_type": "code",
   "execution_count": null,
   "id": "b063a881",
   "metadata": {},
   "outputs": [],
   "source": []
  }
 ],
 "metadata": {
  "kernelspec": {
   "display_name": "Python 3 (ipykernel)",
   "language": "python",
   "name": "python3"
  },
  "language_info": {
   "codemirror_mode": {
    "name": "ipython",
    "version": 3
   },
   "file_extension": ".py",
   "mimetype": "text/x-python",
   "name": "python",
   "nbconvert_exporter": "python",
   "pygments_lexer": "ipython3",
   "version": "3.7.1"
  }
 },
 "nbformat": 4,
 "nbformat_minor": 5
}
