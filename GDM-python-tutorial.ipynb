{
 "cells": [
  {
   "cell_type": "markdown",
   "id": "608f7a72",
   "metadata": {},
   "source": [
    "# Fundamentals of Python Programming"
   ]
  },
  {
   "cell_type": "markdown",
   "id": "9a8832b3",
   "metadata": {},
   "source": [
    "## Contents:\n",
    "0. Introduction to Python\n",
    "1. Comments\n",
    "2. Data types, Variables, and Print Statements\n",
    "3. Lists and Arrays\n",
    "4. Arithmetic \n",
    "5. Importing Data"
   ]
  },
  {
   "cell_type": "markdown",
   "id": "a2da53dc",
   "metadata": {},
   "source": [
    "# 0. Introduction to Python"
   ]
  },
  {
   "cell_type": "markdown",
   "id": "fea09c02",
   "metadata": {},
   "source": [
    "### Python is a versatile programming language that is widely used in science, engineering, and data analysis. Python is easier to learn than many other computer languages, but it will be challenging if you are new to programming. \n",
    "\n",
    "### Python offers the programmer several advantages:\n",
    " - Free to use\n",
    " - Abundance of \"libraries\" that save time and effort\n",
    " - Powerful \n",
    " \n",
    "### There is no \"easy\" way to learn Python. The best way to learn is to practice often. I recommend you try to do all of your data analyses and graphing tasks in Python. At first, you will make many mistakes and it will take more time than with the other methods you may know. Once you become proficient, you will be able to complete tasks much more quickly. There are many resources available online to help you get started."
   ]
  },
  {
   "cell_type": "markdown",
   "id": "8720e5d8",
   "metadata": {},
   "source": [
    "# 1. Comments\n",
    "### Comment your code! It is always a good idea to add comments that explain how your code works. This helps other users understand the code and it helps you remember what you did. \n",
    "\n",
    "### Comments can be inserted the following ways:\n",
    "- \\# : Anything following the \"pound sign\" or \"hashtag\" is a comment\n",
    "- \"\"\"Comment\"\"\" : Anything written between three sets of quotation marks is a comment\n",
    "\n",
    "### Below I've typed out some examples of comments in Python:"
   ]
  },
  {
   "cell_type": "code",
   "execution_count": null,
   "id": "fb29a58f",
   "metadata": {},
   "outputs": [],
   "source": [
    "\"\"\"\n",
    "It is always a good idea to add comments to your code.\n",
    "Comments help other users (and you!) remember what the code is supposed to do.\n",
    "\n",
    "Comments can be added to code in two ways:\n",
    "\"\"\"\n",
    "\n",
    "\"\"\"Anything written between 3 sets of quotation marks is a comment.\"\"\"\n",
    "\n",
    "#Anything written after a pound (#) sign is a comment\n",
    "\n",
    "\n",
    "#Both methods are acceptable.\n",
    "\n",
    "#I tend to use the pound sign for short comments.\n",
    "\n",
    "\"\"\"I typically use three sets of quotation marks for longer comments.\"\"\"\n",
    "\n",
    "\"\"\"I encourage you to add comments to the code today as you are learning. It will help you understand.\"\"\""
   ]
  },
  {
   "cell_type": "markdown",
   "id": "f14de4ca",
   "metadata": {},
   "source": [
    "# 2. Data Types, Variables, and Print Statements"
   ]
  },
  {
   "cell_type": "markdown",
   "id": "1df93aea",
   "metadata": {},
   "source": [
    "## 2.1: Data Types\n",
    "###  All programming languages classify data by type. We will learn about five commonly used data types today: strings, integers, floats, lists, and arrays.\n",
    "\n",
    " - Booleans- True or False (bool)\n",
    " - Strings- a series of characters (numbers or letters) written inside a single set of quotation marks. E.g, \"Nepal\" (type = str)\n",
    " - Integers- whole numbers. E.g., 2, 46, 190238 (type = int)\n",
    " - Float- decimal numbers. E.g., 0.5, 1.91, 3.14159 (type = float)\n",
    " - Lists- a series of strings, integers, floats, variables, lists, or arrays written between brackets and separated by a comma. [1, \"a\", 2.5] (lst)\n",
    " - Arrays- these are similar to lists, but typically only used for numbers. We'll learn more about them later on. \n",
    "\n",
    "### Python has a built in function \"type()\" that will tell you the type of data you are working with."
   ]
  },
  {
   "cell_type": "code",
   "execution_count": null,
   "id": "151469e9",
   "metadata": {},
   "outputs": [],
   "source": [
    "#We will begin using the function type() to check the data type for each of the following examples:\n",
    "\n",
    "type(\"This is a string. 12345\")"
   ]
  },
  {
   "cell_type": "code",
   "execution_count": null,
   "id": "3d7b0f2c",
   "metadata": {},
   "outputs": [],
   "source": [
    "type(4) #This is an integer"
   ]
  },
  {
   "cell_type": "code",
   "execution_count": null,
   "id": "0ddc17d6",
   "metadata": {},
   "outputs": [],
   "source": [
    "type(3.14159) #This is a float"
   ]
  },
  {
   "cell_type": "code",
   "execution_count": null,
   "id": "abd083ce",
   "metadata": {},
   "outputs": [],
   "source": [
    "type([1, \"b\", 3.5, \"dogs\", \"cats\", 0.9]) #This is a list"
   ]
  },
  {
   "cell_type": "code",
   "execution_count": null,
   "id": "96a7f509",
   "metadata": {},
   "outputs": [],
   "source": [
    "type(True)"
   ]
  },
  {
   "cell_type": "code",
   "execution_count": null,
   "id": "3af6ef23",
   "metadata": {},
   "outputs": [],
   "source": [
    "type(False)"
   ]
  },
  {
   "cell_type": "markdown",
   "id": "1d0ee925",
   "metadata": {},
   "source": [
    "## 2.2: Variables\n",
    "### Most of the time, you will store data as a variable. In Python, variables can hold any type of data. You can give the variable any name you want. The only constraint is that the variable name must begin with a letter. To assign a value to the variable, we use a single equal sign (=). The following variable names are examples:"
   ]
  },
  {
   "cell_type": "code",
   "execution_count": null,
   "id": "347a8185",
   "metadata": {},
   "outputs": [],
   "source": [
    "place = \"Kathmandu University\"\n",
    "year = 2023\n",
    "x = 2.5\n",
    "countries = ['Nepal', 'India', 'Pakistan', 'Bangladesh', 'China']"
   ]
  },
  {
   "cell_type": "markdown",
   "id": "51a6537f",
   "metadata": {},
   "source": [
    "## 2.3: Print Statements\n",
    "### Many times, we want to force Python to print something to the screen. For example, if you're running a complex model, you may want it to print the status of the model periodically so that you know things are working properly. Let's practice with some simple print statements. "
   ]
  },
  {
   "cell_type": "code",
   "execution_count": null,
   "id": "237f454d",
   "metadata": {},
   "outputs": [],
   "source": [
    "#The print() function works just like the type() function\n",
    "#It will print whatever we put in the parentheses\n",
    "\n",
    "print(place)"
   ]
  },
  {
   "cell_type": "code",
   "execution_count": null,
   "id": "a108269f",
   "metadata": {},
   "outputs": [],
   "source": [
    "#Print the values of the following variables in the space below: year, x, countries\n",
    "#I've done the first one for you and started the second:\n",
    "print(year)\n",
    "print()\n"
   ]
  },
  {
   "cell_type": "code",
   "execution_count": null,
   "id": "45526beb",
   "metadata": {},
   "outputs": [],
   "source": [
    "#We can also combine the the type function and the print function\n",
    "print(type(place))\n",
    "print(type(x))"
   ]
  },
  {
   "cell_type": "code",
   "execution_count": null,
   "id": "45264105",
   "metadata": {},
   "outputs": [],
   "source": [
    "#We can print the values of many variables at once by separating them with a comma:\n",
    "print(place, year)"
   ]
  },
  {
   "cell_type": "markdown",
   "id": "ed04f4f1",
   "metadata": {},
   "source": [
    "# 3. Lists and Arrays"
   ]
  },
  {
   "cell_type": "markdown",
   "id": "762c7e5a",
   "metadata": {},
   "source": [
    "## 3.1: Lists\n",
    "### Lists are used to store many values at once. Lists can hold strings, numbers, lists (e.g., a list of lists), and any other data type. Lists maintain the order of the objects it holds. This is very useful because it allows us to access specific items in the list just by knowing what position the item occupies. \n",
    "### Counting in Python:\n",
    "### Python starts counting at 0. The first item in a list has the index position value of 0. The second item in the list has the index value 1. The third has the index value 2. And so on..."
   ]
  },
  {
   "cell_type": "code",
   "execution_count": null,
   "id": "895f7804",
   "metadata": {},
   "outputs": [],
   "source": [
    "#Remember the variable countries is a list\n",
    "print(countries)"
   ]
  },
  {
   "cell_type": "code",
   "execution_count": null,
   "id": "3d243de0",
   "metadata": {},
   "outputs": [],
   "source": [
    "#We can access any value in the list using it's index:\n",
    "print(countries[0])\n",
    "print(countries[1])\n",
    "print(countries[4])"
   ]
  },
  {
   "cell_type": "markdown",
   "id": "09beb2c8",
   "metadata": {},
   "source": [
    "### Slices:\n",
    "### Lists also allow us to select many values at once. This is called a slice. We need to know the index of the starting item and the index of the last item we want to include in the list."
   ]
  },
  {
   "cell_type": "code",
   "execution_count": null,
   "id": "10178309",
   "metadata": {},
   "outputs": [],
   "source": [
    "print(countries[1:4]) #There will be 4-1 items in this slice, countries[1], countries[2], and countries[3]"
   ]
  },
  {
   "cell_type": "code",
   "execution_count": null,
   "id": "70ac0763",
   "metadata": {},
   "outputs": [],
   "source": [
    "#Sometimes we want to start at the beginning of the list and select a few values. \n",
    "#There are two ways to do this\n",
    "\n",
    "print(countries[0:3])\n",
    "print(countries[:3]) #shorthand notation"
   ]
  },
  {
   "cell_type": "code",
   "execution_count": null,
   "id": "abadee44",
   "metadata": {},
   "outputs": [],
   "source": [
    "#We can do the same to access the end of the list\n",
    "#The \"shorthand\" notation is nice because we don't need to know how long the list actually is \n",
    "\n",
    "print(countries[2:5])\n",
    "print(countries[2:])"
   ]
  },
  {
   "cell_type": "code",
   "execution_count": null,
   "id": "d9c019d9",
   "metadata": {},
   "outputs": [],
   "source": [
    "#We can use negative notation numbers to count backwards from the end of the list\n",
    "\n",
    "print(countries[-1])\n",
    "print(countries[-2])\n",
    "print(countries[1:-1])"
   ]
  },
  {
   "cell_type": "markdown",
   "id": "c281847e",
   "metadata": {},
   "source": [
    "## 3.2: Arrays\n",
    "### Arrays are similar to lists, except that they are only used for numerical data. The advantage of using arrays, rather than lists, is that many mathematical operations are much faster using arrays. We will need to use the Numpy library to start using arrays. \n",
    "\n",
    "https://numpy.org/"
   ]
  },
  {
   "cell_type": "code",
   "execution_count": null,
   "id": "e5145398",
   "metadata": {},
   "outputs": [],
   "source": [
    "#We need to import Numpy to use its functions\n",
    "#Numpy is automatically included with Anaconda Python, so we don't need to download it from the internet first\n",
    "\n",
    "import numpy as np #Import the library called \"numpy\", we will call it \"np\" when using it. "
   ]
  },
  {
   "cell_type": "code",
   "execution_count": null,
   "id": "7de2ef8b",
   "metadata": {},
   "outputs": [],
   "source": [
    "#We can start out with a list of numbers\n",
    "numberList = [0, 1, 2, 3, 4, 5]\n",
    "\n",
    "#Then we convert it to an array for numerical work\n",
    "array = np.array(numberList)\n",
    "print(array)\n",
    "print(type(array))"
   ]
  },
  {
   "cell_type": "code",
   "execution_count": null,
   "id": "096f92d8",
   "metadata": {},
   "outputs": [],
   "source": [
    "#Indices and slices work the same with arrays\n",
    "\n",
    "print(array[2])\n",
    "print(array[2:4])\n",
    "print(array[3:-1])"
   ]
  },
  {
   "cell_type": "markdown",
   "id": "2e606e4b",
   "metadata": {},
   "source": [
    "### Numpy has functions that build arrays for us. I'll show you a few of them. "
   ]
  },
  {
   "cell_type": "code",
   "execution_count": null,
   "id": "c7c3c4a6",
   "metadata": {},
   "outputs": [],
   "source": [
    "#Fill an array with ten zeros \n",
    "\n",
    "zeroArray = np.zeros(10)\n",
    "print(zeroArray)"
   ]
  },
  {
   "cell_type": "code",
   "execution_count": null,
   "id": "c28645dd",
   "metadata": {},
   "outputs": [],
   "source": [
    "#Fill an array with 12 ones\n",
    "\n",
    "onesArray = np.ones(12)\n",
    "print(onesArray)"
   ]
  },
  {
   "cell_type": "code",
   "execution_count": null,
   "id": "7d26f806",
   "metadata": {},
   "outputs": [],
   "source": [
    "#Fill an array with values starting at 3 and ending at 19, counting by 1\n",
    "\n",
    "arangeArray1 = np.arange(3, 20, 1)\n",
    "print(arangeArray1)"
   ]
  },
  {
   "cell_type": "code",
   "execution_count": null,
   "id": "e743371c",
   "metadata": {},
   "outputs": [],
   "source": [
    "#Fill and array with values starting at 0 and ending at 10, counting by 0.25\n",
    "arangeArray2 = np.arange(0, 10.25, 0.25)\n",
    "print(arangeArray2)"
   ]
  },
  {
   "cell_type": "code",
   "execution_count": null,
   "id": "b63d8bb9",
   "metadata": {},
   "outputs": [],
   "source": [
    "#Fill an array with 20 evenly spaced values between 0 and 10\n",
    "\n",
    "linspaceArray = np.linspace(0, 10, 20)\n",
    "print(linspaceArray)"
   ]
  },
  {
   "cell_type": "markdown",
   "id": "b3d24cda",
   "metadata": {},
   "source": [
    "# 4. Arithmetic "
   ]
  },
  {
   "cell_type": "code",
   "execution_count": null,
   "id": "3c554846",
   "metadata": {},
   "outputs": [],
   "source": [
    "#I assigned values to the following variables. \n",
    "a = 3\n",
    "b = 4\n",
    "c = 5\n",
    "d = 9\n",
    "\n",
    "#Now we can perform arithmetic on the variables\n",
    "print(a+b)\n",
    "print(c-a)\n",
    "\n",
    "#If we want our print statement to look nice, we can add a string\n",
    "print(\"a + b =\", a+b)\n",
    "print(\"c - a =\", c-a)"
   ]
  },
  {
   "cell_type": "code",
   "execution_count": null,
   "id": "862f6944",
   "metadata": {},
   "outputs": [],
   "source": [
    "\"\"\"\n",
    "Use print statements when trying the following operations:\n",
    "\n",
    "a * b\n",
    "d / a\n",
    "c // b\n",
    "c // a\n",
    "d // b\n",
    "a**2\n",
    "a**a\n",
    "\"\"\"\n",
    "a = 3\n",
    "b = 4\n",
    "c = 5\n",
    "d = 9\n",
    "\n",
    "print(a*b)\n",
    "print(d/a)\n",
    "print()\n",
    "print()\n",
    "print()\n",
    "print()\n",
    "print()"
   ]
  },
  {
   "cell_type": "code",
   "execution_count": null,
   "id": "72427080",
   "metadata": {},
   "outputs": [],
   "source": [
    "\"\"\"\n",
    "Use print statements when trying the following operations:\n",
    "\n",
    "a > b\n",
    "a < b\n",
    "3*a > d\n",
    "3*a >= d\n",
    "c != d\n",
    "\n",
    "a < b and d > a\n",
    "b > a or a > d\n",
    "\n",
    "a == b\n",
    "d == d\n",
    "\"\"\"\n",
    "a = 3\n",
    "b = 4\n",
    "c = 5\n",
    "d = 9\n",
    "\n",
    "print(a>b)\n",
    "print()\n",
    "print()"
   ]
  },
  {
   "cell_type": "markdown",
   "id": "60639c58",
   "metadata": {},
   "source": [
    "### We can also perform arithmetic on arrays."
   ]
  },
  {
   "cell_type": "code",
   "execution_count": null,
   "id": "3f611b67",
   "metadata": {},
   "outputs": [],
   "source": [
    "#Let's imagine we want to know how the area of a circle increases as its radius increases\n",
    "radius = np.linspace(0.5, 10, 100)\n",
    "area = np.pi * radius**2\n",
    "\n",
    "print(area)"
   ]
  },
  {
   "cell_type": "code",
   "execution_count": null,
   "id": "84892996",
   "metadata": {},
   "outputs": [],
   "source": [
    "# It's not very nice to look at a huge array, let's quickly learn how to plot\n",
    "# We need to import the matplotlib.pyplot libarary to plot\n",
    "\n",
    "# https://matplotlib.org/\n",
    "\n",
    "import matplotlib.pyplot as plt #Import the \"matplotlib.pyplot\" library, we'll call it plt"
   ]
  },
  {
   "cell_type": "code",
   "execution_count": null,
   "id": "daf97bd8",
   "metadata": {},
   "outputs": [],
   "source": [
    "plt.plot(radius, area)\n",
    "plt.xlabel('Radius')\n",
    "plt.ylabel('Area')\n",
    "plt.show()"
   ]
  },
  {
   "cell_type": "code",
   "execution_count": null,
   "id": "0f33d7a2",
   "metadata": {},
   "outputs": [],
   "source": [
    "# If two arrays are the same size, we can do arithmetic on them\n",
    "\n",
    "a1 = np.array([0, 1, 2, 3, 4, 5, 6, 7]) #This array has 8 elements\n",
    "a2 = np.array([10, 20, 30, 40, 50, 60, 70, 80]) #This array also has 8 elements\n",
    "\n",
    "a3 = a1 + a2\n",
    "print(a3)"
   ]
  },
  {
   "cell_type": "code",
   "execution_count": null,
   "id": "39d077f7",
   "metadata": {},
   "outputs": [],
   "source": [
    "#What happens if our arrays have different shapes?\n",
    "\n",
    "b1 = np.array([2, 3, 4, 5, 6, 7])\n",
    "b2 = np.array([2, 3, 4, 5, 6])\n",
    "\n",
    "b3 = b1 + b2\n",
    "print(b3)"
   ]
  },
  {
   "cell_type": "code",
   "execution_count": null,
   "id": "99653d8c",
   "metadata": {},
   "outputs": [],
   "source": [
    "# Geographic data is often stored in two dimensions, think latitude and longitude\n",
    "# We can create 2-dimensional arrays of values to handle this\n",
    "\n",
    "x_values = np.array([2.2, 3.5, 1.7, 0.1, 5.3, 4.1])\n",
    "y_values = np.array([4.3, 1.2, 5.1, 2.3, 4.9, 3.2])\n",
    "\n",
    "xy_values = np.array([x_values, y_values])\n",
    "\n",
    "plt.plot(x_values, y_values, 'o')\n",
    "plt.show()"
   ]
  },
  {
   "cell_type": "code",
   "execution_count": null,
   "id": "f9e83c9d",
   "metadata": {},
   "outputs": [],
   "source": [
    "print(xy_values)\n",
    "print(np.shape(xy_values)) #two rows, 6 columns"
   ]
  },
  {
   "cell_type": "markdown",
   "id": "1bf02bd5",
   "metadata": {},
   "source": [
    "# 5. Importing Data"
   ]
  },
  {
   "cell_type": "markdown",
   "id": "535dd68b",
   "metadata": {},
   "source": [
    "### There are many ways to import data. I will show you how to import data from CSV/Excel files. \n",
    "\n",
    "### Importing data can be tricky. The most common problem people have is related to the data file path. You must know the path to your data relative to the Python file you are working in. The easiest way to avoid this error is to keep your Python file in the same folder/directory as the data. \n",
    "\n",
    "### Often times, there are errors in the data formatting that cause problems later on. We could spend a week on this topic and still not cover all the issues that you will encounter. "
   ]
  },
  {
   "cell_type": "markdown",
   "id": "ba224eef",
   "metadata": {},
   "source": [
    "## 5.1: Pandas"
   ]
  },
  {
   "cell_type": "code",
   "execution_count": null,
   "id": "6f396cda",
   "metadata": {},
   "outputs": [],
   "source": [
    "# The Python library \"pandas\" makes imporint CSV and Excel files easy\n",
    "\n",
    "# https://pandas.pydata.org/\n",
    "\n",
    "import pandas as pd #Import the \"pandas\" library, we'll call it pd"
   ]
  },
  {
   "cell_type": "code",
   "execution_count": null,
   "id": "69a0408d",
   "metadata": {},
   "outputs": [],
   "source": [
    "# We will use pandas to import an excel file named \"precip-temp-fixed.xlsx\"\n",
    "# Note: the file we want to import MUST be in the same folder as our python file\n",
    "# Otherwise, we will need to type out the full file path or relative file path\n",
    "\n",
    "data = pd.read_excel(\"precip-temp-fixed.xlsx\", index_col = 0)\n",
    "data"
   ]
  },
  {
   "cell_type": "code",
   "execution_count": null,
   "id": "4b1e5cd1",
   "metadata": {},
   "outputs": [],
   "source": [
    "# We can plot the data using Pandas\n",
    "\n",
    "ax = data.plot(y = ['TminTemp1001', 'TmaxTemp1001'])\n",
    "ax.set_xlabel('Date')\n",
    "ax.set_ylabel('Temperature ($^o$C)')"
   ]
  }
 ],
 "metadata": {
  "kernelspec": {
   "display_name": "Python 3 (ipykernel)",
   "language": "python",
   "name": "python3"
  },
  "language_info": {
   "codemirror_mode": {
    "name": "ipython",
    "version": 3
   },
   "file_extension": ".py",
   "mimetype": "text/x-python",
   "name": "python",
   "nbconvert_exporter": "python",
   "pygments_lexer": "ipython3",
   "version": "3.7.1"
  }
 },
 "nbformat": 4,
 "nbformat_minor": 5
}
