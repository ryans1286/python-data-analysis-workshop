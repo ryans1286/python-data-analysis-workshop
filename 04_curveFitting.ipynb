{
 "cells": [
  {
   "cell_type": "code",
   "execution_count": null,
   "id": "7644c64b",
   "metadata": {},
   "outputs": [],
   "source": [
    "%pylab inline\n",
    "import pandas as pd"
   ]
  },
  {
   "cell_type": "markdown",
   "id": "067c825b",
   "metadata": {},
   "source": [
    "## Linear Regression"
   ]
  },
  {
   "cell_type": "code",
   "execution_count": null,
   "id": "7c089761",
   "metadata": {},
   "outputs": [],
   "source": [
    "#We will import data of geophysically determined temperatures as a function of depth \n",
    "# beneath Earth's surface\n",
    "#  This data comes from pg. 25 of Waltham\n",
    "data = pd.read_csv('temperature-depth.txt', delimiter='\\t')#we have a tab delimiter\n",
    "depth = data['Depth(km)'] #first column is depth\n",
    "temp = data['Temp(C)'] #2nd column is temperature\n",
    "plot(depth, temp, 'ro')\n",
    "xlabel('Depth (km)')\n",
    "ylabel('Temperature ($^\\circ$C)')\n",
    "show()"
   ]
  },
  {
   "cell_type": "code",
   "execution_count": null,
   "id": "684979f5",
   "metadata": {},
   "outputs": [],
   "source": [
    "#First we have to import the linregress function so that it is available to us.\n",
    "from scipy.stats import linregress\n",
    "#To calculate a linear regression we provide the x (depth) and y (temp) data values to \n",
    "# linregress() like this\n",
    "slope, intercept, r, p, stderr = linregress(depth, temp)\n",
    "#There are several values returned by linregress() as listed above.  \n",
    "# - slope and intercept are the slope and intercept of the best-fitting line.  \n",
    "# - r, is a measure of goodness-of-fit. The closer it is to 1 the better the fit.\n",
    "# -  p is the probability that the given data could have been produced by a population that\n",
    "#     actually had a slope of zero.  It is a measure of statistical confidence in the result.\n",
    "#     Lower p values mean higher confidence.  Generally, p values < 0.05 are considered \n",
    "#     statistically significant.\n",
    "# - stderr is the estimate of the standard deviation of the errors between the model and data."
   ]
  },
  {
   "cell_type": "code",
   "execution_count": null,
   "id": "b9a5208f",
   "metadata": {},
   "outputs": [],
   "source": [
    "#Print out information about the fit\n",
    "print('Slope =', slope)\n",
    "print('Intercept =', intercept)\n",
    "print('R^2 =', r**2.)\n",
    "print('p =', p)\n",
    "print('stderr =', stderr)"
   ]
  },
  {
   "cell_type": "code",
   "execution_count": null,
   "id": "be2c3870",
   "metadata": {},
   "outputs": [],
   "source": [
    "#Let's plot the result of our regression against the data\n",
    "plot(depth, temp, 'o')\n",
    "\n",
    "# These are the depth values we're going to use to model Temp vs. Depth\n",
    "# When plotting regression models these \"x\" values should be some reasonable range for your problem.\n",
    "# We only need two points, since we are plotting a straight line. \n",
    "# For a curve, we would need more x points in the array.\n",
    "depth_model = array([0.,max(depth)])\n",
    "#The equation below calculates the best fit temp values as a function of depth\n",
    "#using slope and intercept values from the regression above\n",
    "temp_model = slope*depth_model+intercept\n",
    "plot(depth_model, temp_model)\n",
    "xlabel('Depth (km)')\n",
    "ylabel('Temperature ($^\\circ$C)')\n",
    "ylim([0,5000])\n",
    "show()"
   ]
  },
  {
   "cell_type": "markdown",
   "id": "f9eab168",
   "metadata": {},
   "source": [
    "### How could we fit a line to just the first four points of the data? Try this!"
   ]
  },
  {
   "cell_type": "markdown",
   "id": "99803ad4",
   "metadata": {},
   "source": [
    "## Polynomial Regression"
   ]
  },
  {
   "cell_type": "code",
   "execution_count": null,
   "id": "14e77b24",
   "metadata": {},
   "outputs": [],
   "source": [
    "#We can fit polynomials to data in python using a function called numpy.polyfit()\n",
    "#  The first two arguments are the x and y data, and the third argument is the\n",
    "#  degree of the polynomial to fit to the data.  The degree is the highest power\n",
    "#  of x that appears in the polynomial equation.\n",
    "# For degree 4 the polynomial would be y = ax^4 + bx^3 + cx^2 + dx + e\n",
    "coefficients = polyfit(depth, temp, 4)\n",
    "#polyfit() will return an array containing the coefficients of the polynomial (a,b,c,d,e in this case)"
   ]
  },
  {
   "cell_type": "code",
   "execution_count": null,
   "id": "59c921ed",
   "metadata": {},
   "outputs": [],
   "source": [
    "coefficients"
   ]
  },
  {
   "cell_type": "code",
   "execution_count": null,
   "id": "4df52dbf",
   "metadata": {},
   "outputs": [],
   "source": [
    "#The poly1d() function can be used to create polynomial function objects like this the these coefficients\n",
    "poly_model = poly1d(coefficients)\n",
    "#poly_model() is now a function that will calculate the y value of the polynomial for a given x.\n",
    "#While you could write out the polynomial equation by hand, as shown above, using poly1d is way easier.\n",
    "print(poly_model(depth))  #This line of code calculates the model temperatures for each depth value"
   ]
  },
  {
   "cell_type": "code",
   "execution_count": null,
   "id": "0c2dc0d5",
   "metadata": {},
   "outputs": [],
   "source": [
    "#We can plot the model against the data like this\n",
    "plot(depth, temp, 'o')#This just plots the data points\n",
    "#This next line creates a set of depth values for which we will calculate temperature using the polynomial fit.\n",
    "#Note that we now use more than 2 points, because it is not a straight line. We start with 5.\n",
    "depth_model = linspace(0, 7000, 5)\n",
    "#Now plot the curve over the data\n",
    "plot(depth_model, poly_model(depth_model))\n",
    "ylim([0,5000])\n",
    "# Add appropriate axis labels\n",
    "\n",
    "\n",
    "show()\n",
    "\n",
    "#This model would look better (smoother) if we used more x values in plotting it\n",
    "#  Change the code to increase the number of x values "
   ]
  },
  {
   "cell_type": "code",
   "execution_count": null,
   "id": "9c4e6547",
   "metadata": {},
   "outputs": [],
   "source": [
    "#If we dramatically increase the order of the polynomial, we can fit the data really well...but it is overfit.\n",
    "coefficients = polyfit(depth, temp, 10)#we're using a 14th order polynomial\n",
    "overfit_model = poly1d(coefficients)\n",
    "plot(depth, temp, '^')\n",
    "overfit_depths = depth\n",
    "plot(overfit_depths, overfit_model(overfit_depths))\n",
    "#This code only plots our polynomial at the locations of our depth data\n",
    "\n",
    "#looks good doesn't it?\n",
    "\n",
    "#Instead of plotting the model only at the data points, what happens if you use linspace (as done above)\n",
    "# to plot a nice smooth curve that displays the model between the data points as well? Be sure you use \n",
    "# enough points in your linspace array to show a smooth function (perhaps 100 or more).\n",
    "\n",
    "#See any problems with the way the model behaves betwen the data points?\n",
    "\n",
    "#Note, when you run this code, python actually warns you that you may have overfit your data.\n",
    "# This is what it means when it says \"may be poorly conditioned.\"\n",
    "\n"
   ]
  },
  {
   "cell_type": "markdown",
   "id": "f99bd53c",
   "metadata": {},
   "source": [
    "## Regressions with Any Function"
   ]
  },
  {
   "cell_type": "code",
   "execution_count": null,
   "id": "d10dccdb",
   "metadata": {},
   "outputs": [],
   "source": [
    "# This is some function y = f(x), here we named it func()\n",
    "# Here we define our function to be: y = c - a*e^(-x/b)\n",
    "# Notice that a, b, and c are all parameters of func() and x is an independent variable.\n",
    "def func(x, a, b, c):\n",
    "    y = c - a*exp(-x/b) \n",
    "    return y"
   ]
  },
  {
   "cell_type": "code",
   "execution_count": null,
   "id": "c7fcd239",
   "metadata": {},
   "outputs": [],
   "source": [
    "# This calls the func with x = 1., a = 2., b = 2., and c = 3 and returns the y value.\n",
    "func(1., 2., 2., 3.)"
   ]
  },
  {
   "cell_type": "code",
   "execution_count": null,
   "id": "60f84b2d",
   "metadata": {},
   "outputs": [],
   "source": [
    "#We can do curve fitting of any type of function using scipy.optimize.curve_fit()\n",
    "from scipy.optimize import curve_fit\n",
    "\n",
    "#We call curve_fit with our function name as the first argument \n",
    "# and our x and y data as the next two arguments\n",
    "# p0 is an initial guess for the parameters, in this case for a, b, and c\n",
    "opt_params, pcov = curve_fit(func, depth, temp, p0=[3000., 100.,4000.])\n",
    "#The function returns a list of optimal parameters and the estimated covariance of the parameters\n",
    "#How might we estimate those parameters for our temp data? why did I chose the initial guess values I used?\n",
    "#Sometimes the initial guess is important, and the computer might not find the correct solution \n",
    "#unless we start it out in the right neighborhood.\n",
    "print(opt_params)"
   ]
  },
  {
   "cell_type": "code",
   "execution_count": null,
   "id": "a31668a7",
   "metadata": {},
   "outputs": [],
   "source": [
    "# We can then calculate the best-fit curve using the optimized parameters for a, b, and c\n",
    "#First we create a dummy x variable that contains locations where we want to calculate the\n",
    "#fitting curve y values.\n",
    "depth_model = linspace(0,7000,500)\n",
    "# Assign the optimized parameters to their appropriate variables\n",
    "# look at the format of opt_params above\n",
    "a_opt = opt_params[0]\n",
    "b_opt = opt_params[1]\n",
    "c_opt = opt_params[2]\n",
    "#This will be the y values of the model using the optimal parameters determined by curve_fit\n",
    "temp_model = func(depth_model, a_opt, b_opt, c_opt)\n",
    "\n",
    "# Create a plot of the model and the temp/depth data "
   ]
  },
  {
   "cell_type": "code",
   "execution_count": null,
   "id": "ff5cc49a",
   "metadata": {},
   "outputs": [],
   "source": [
    "plot(depth, temp, 'o')\n",
    "plot(depth_model, temp_model)"
   ]
  },
  {
   "cell_type": "markdown",
   "id": "7fa0e0b6",
   "metadata": {},
   "source": [
    "## Plotting and Fitting Curves in Logarithmic Space"
   ]
  },
  {
   "cell_type": "markdown",
   "id": "d32c1c52",
   "metadata": {},
   "source": [
    "### When the range of your data spans several orders of magnitude (powers of ten), you should consider plotting in logarithmic space. River discharge, earthquake energy, sizes of lakes, city populations, website visits, and personal finanical wealth are some examples of measurements that tend to vary by many orders of magnitude. These should be plotted in logarithmic space. \n",
    "\n",
    "### Fitting curves in log space is preferred when we have data that range over many orders of magnitude and the error (or range of residuals around best fit line) scales roughly with the order of magnitude of the measurement.  If error is a constant value, or if the range of residuals does not change with the independent variable, a log fit is not appropriate. \n",
    "\n",
    "### Most of the times when we have data that range over several orders of magnitude, we will be in a situation where errors are also bigger on the bigger data points. Therefore, we typically want to fit such data in log space."
   ]
  },
  {
   "cell_type": "code",
   "execution_count": null,
   "id": "1b7229f4",
   "metadata": {},
   "outputs": [],
   "source": [
    "#Let's import some data that examines the areas and perimeters of topographic depressions on the Ngozumpa Glacier. \n",
    "#Topographic depressions are \"pits\" in the topography where ponds sometimes form. \n",
    "\n",
    "df = pd.read_csv('2019-ngozumpa-depressions.csv')\n",
    "df"
   ]
  },
  {
   "cell_type": "code",
   "execution_count": null,
   "id": "6e88ca52",
   "metadata": {},
   "outputs": [],
   "source": [
    "#We can use pandas to look at the basic statistics of the perimeters and areas\n",
    "df['area'].describe()"
   ]
  },
  {
   "cell_type": "code",
   "execution_count": null,
   "id": "09e9d4c5",
   "metadata": {},
   "outputs": [],
   "source": [
    "df['perimeter'].describe()"
   ]
  },
  {
   "cell_type": "markdown",
   "id": "4f5ff192",
   "metadata": {},
   "source": [
    "### The areas range from 1-251241 m^2 (5 orders of magnitude) and the perimeters range from 4-18793 m (4 orders of magnitude)"
   ]
  },
  {
   "cell_type": "code",
   "execution_count": null,
   "id": "b7157150",
   "metadata": {},
   "outputs": [],
   "source": [
    "#Let's see what the plot of area vs. perimeter would look like in linear space\n",
    "area = df['area']\n",
    "perimeter = df['perimeter']\n",
    "\n",
    "plot(area, perimeter, '.')\n",
    "xlabel('Area')\n",
    "ylabel('Perimeter')\n",
    "show()\n",
    "\n",
    "#The plot doesn't look terrible, but notice that almost all of our data is clustered in the bottom\n",
    "#corner of the plot. This is not good."
   ]
  },
  {
   "cell_type": "code",
   "execution_count": null,
   "id": "62f8900b",
   "metadata": {},
   "outputs": [],
   "source": [
    "#Let's now try plotting on logarithmically scaled axes. We will use a new plotting function to do this\n",
    "\n",
    "loglog(area, perimeter, '.', color = 'green')\n",
    "#Add axis labels to the plot\n",
    "\n",
    "title('Perimeter-Area Scaling on Logarithmic Axes')\n",
    "show()"
   ]
  },
  {
   "cell_type": "markdown",
   "id": "b0de9ef7",
   "metadata": {},
   "source": [
    "### Adding Best Fit Curves in logarithmic space"
   ]
  },
  {
   "cell_type": "markdown",
   "id": "658bdd0e",
   "metadata": {},
   "source": [
    "#### Points that plot linearly in log-log space, like the perimeter-area plot above, describe \"Power Laws\". These types of relationships occur commonly and are interesting because they describe scaling relationships. A simple geometric example of a power law is the relationship between the volume of a sphere and its radius. As you increase the radius of the sphere, the volume increase scales with the cube of the radius: $ V = \\frac{4}{3}\\pi r^3 $"
   ]
  },
  {
   "cell_type": "markdown",
   "id": "8921633d",
   "metadata": {},
   "source": [
    "Finding the scaling relationship between values that plot linearly in log-log space is straightforward, but it does require that you remember some algebra:\n",
    "\n",
    "Consider the perimeter-area plot above. Because it plots as a line in log-log space, we can write the equation for that line as:\n",
    "$$\n",
    "\\log{y} = m \\log{x} + b\n",
    "$$\n",
    "The slope, $m$, is the exponent of interest in our scaling relationship. We can find the full power law equation if we remember the rules for logarithms:\n",
    "$$\n",
    "10^{\\log{y}} = 10^{m \\log{x} + b} \\\\\n",
    "y = 10^{\\log{x^m}}10^b \\\\\n",
    "y = 10^bx^m \\\\\n",
    "y = Ax^m\n",
    "$$\n",
    "In the last step, I created a new variable $A = 10^b$ just to keep things looking nice. "
   ]
  },
  {
   "cell_type": "markdown",
   "id": "6b0670c6",
   "metadata": {},
   "source": [
    "#### Fitting a line to data plotted in log-log space requires that we know this relationship. There are two ways to do it and I will show you both ways. "
   ]
  },
  {
   "cell_type": "markdown",
   "id": "72ea8d13",
   "metadata": {},
   "source": [
    "#### Method 1:"
   ]
  },
  {
   "cell_type": "code",
   "execution_count": null,
   "id": "7b586c03",
   "metadata": {},
   "outputs": [],
   "source": [
    "#We know the data plots linearly in log-log space\n",
    "#First we take the logarithm of both the areas and perimeters\n",
    "\n",
    "log_area = log10(area)\n",
    "log_perimeter = log10(perimeter)\n",
    "\n",
    "#Because we have already taken the logarithms, we can plot these in linear space\n",
    "#to prove to ourselves that they still form a line.\n",
    "#This step is not necessary:\n",
    "scatter(log_area, log_perimeter, s = 1)\n",
    "show()"
   ]
  },
  {
   "cell_type": "code",
   "execution_count": null,
   "id": "9ebf4547",
   "metadata": {},
   "outputs": [],
   "source": [
    "#The Python library SciPy has a function that will calculate the slope and y-intercept for us.\n",
    "#We need to import the function from SciPy\n",
    "from scipy.stats import linregress\n",
    "\n",
    "m, b, rval, pval, se = linregress(log_area, log_perimeter)\n",
    "\n",
    "print(\"slope = \", m)\n",
    "print(\"y-intercept = \", b)"
   ]
  },
  {
   "cell_type": "code",
   "execution_count": null,
   "id": "fed4f864",
   "metadata": {},
   "outputs": [],
   "source": [
    "#Now that we know the slope and y-intercept, we can easily plot a line over the data using \n",
    "#equation for a line, y = mx+b\n",
    "\n",
    "scatter(log_area, log_perimeter, s = 1)\n",
    "\n",
    "#To plot the line, we need to create values for areas to plot the line\n",
    "xlog = linspace(min(log_area), max(log_area), 100)\n",
    "\n",
    "plot(xlog, m*xlog+b, c = 'r', linewidth = 3)\n",
    "title('Power Law Fit in Linear Space')\n",
    "show()"
   ]
  },
  {
   "cell_type": "markdown",
   "id": "d9bcb4d0",
   "metadata": {},
   "source": [
    "#### Method 2: The previous method worked properly, but the problem is the axes of our data are the logarithms of area and perimeter. It is better to scale the axes logarithmically (like the plot titled \"Perimeter-Area Scaling on Logarithmic Axes\") and fit the curve to those points. To do this, we need to remember the equation for our power law. $y=10^bx^m$"
   ]
  },
  {
   "cell_type": "code",
   "execution_count": null,
   "id": "7eba96b6",
   "metadata": {},
   "outputs": [],
   "source": [
    "#First, let's make the plot of the data itself using the loglog() function\n",
    "loglog(area, perimeter, 'o', markersize=1, color = 'r')\n",
    "\n",
    "#Now let's create the \"line\" in logarithmic space\n",
    "\n",
    "#First, create some x-values in the same range as our data\n",
    "x = linspace(min(area), max(area), 10)\n",
    "\n",
    "loglog(x, 10**b*x**m, linewidth = 3)\n",
    "xlabel('Area (m$^2$)')\n",
    "ylabel('Perimeter (m)')\n",
    "title('Power Law Fit in Logarithmic Space')\n",
    "show()"
   ]
  },
  {
   "cell_type": "code",
   "execution_count": null,
   "id": "1b6eff0d",
   "metadata": {},
   "outputs": [],
   "source": []
  }
 ],
 "metadata": {
  "kernelspec": {
   "display_name": "Python 3 (ipykernel)",
   "language": "python",
   "name": "python3"
  },
  "language_info": {
   "codemirror_mode": {
    "name": "ipython",
    "version": 3
   },
   "file_extension": ".py",
   "mimetype": "text/x-python",
   "name": "python",
   "nbconvert_exporter": "python",
   "pygments_lexer": "ipython3",
   "version": "3.7.1"
  }
 },
 "nbformat": 4,
 "nbformat_minor": 5
}
